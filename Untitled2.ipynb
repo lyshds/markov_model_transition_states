{
 "cells": [
  {
   "cell_type": "code",
   "execution_count": 2,
   "metadata": {},
   "outputs": [
    {
     "ename": "ImportError",
     "evalue": "No module named altair",
     "output_type": "error",
     "traceback": [
      "\u001b[0;31m\u001b[0m",
      "\u001b[0;31mImportError\u001b[0mTraceback (most recent call last)",
      "\u001b[0;32m<ipython-input-2-d0e73acd8f96>\u001b[0m in \u001b[0;36m<module>\u001b[0;34m()\u001b[0m\n\u001b[0;32m----> 1\u001b[0;31m \u001b[0;32mimport\u001b[0m \u001b[0maltair\u001b[0m \u001b[0;32mas\u001b[0m \u001b[0malt\u001b[0m\u001b[0;34m\u001b[0m\u001b[0m\n\u001b[0m\u001b[1;32m      2\u001b[0m \u001b[0;31m#from vega_datasets import data\u001b[0m\u001b[0;34m\u001b[0m\u001b[0;34m\u001b[0m\u001b[0m\n",
      "\u001b[0;31mImportError\u001b[0m: No module named altair"
     ]
    }
   ],
   "source": [
    "import altair as alt\n",
    "#from vega_datasets import data"
   ]
  },
  {
   "cell_type": "code",
   "execution_count": null,
   "metadata": {},
   "outputs": [],
   "source": []
  },
  {
   "cell_type": "code",
   "execution_count": null,
   "metadata": {},
   "outputs": [],
   "source": [
    "from vega_datasets import data"
   ]
  },
  {
   "cell_type": "code",
   "execution_count": 3,
   "metadata": {},
   "outputs": [],
   "source": [
    "import altair as alt\n",
    "\n",
    "from vega_datasets import data"
   ]
  },
  {
   "cell_type": "code",
   "execution_count": 3,
   "metadata": {},
   "outputs": [
    {
     "ename": "ImportError",
     "evalue": "No module named altair",
     "output_type": "error",
     "traceback": [
      "\u001b[0;31m\u001b[0m",
      "\u001b[0;31mImportError\u001b[0mTraceback (most recent call last)",
      "\u001b[0;32m<ipython-input-3-f208177aa798>\u001b[0m in \u001b[0;36m<module>\u001b[0;34m()\u001b[0m\n\u001b[0;32m----> 1\u001b[0;31m \u001b[0;32mimport\u001b[0m \u001b[0maltair\u001b[0m \u001b[0;32mas\u001b[0m \u001b[0malt\u001b[0m\u001b[0;34m\u001b[0m\u001b[0m\n\u001b[0m\u001b[1;32m      2\u001b[0m \u001b[0;32mfrom\u001b[0m \u001b[0mvega_datasets\u001b[0m \u001b[0;32mimport\u001b[0m \u001b[0mdata\u001b[0m\u001b[0;34m\u001b[0m\u001b[0m\n\u001b[1;32m      3\u001b[0m \u001b[0;34m\u001b[0m\u001b[0m\n\u001b[1;32m      4\u001b[0m \u001b[0;31m# Since these data are each more than 5,000 rows we'll import from the URLs\u001b[0m\u001b[0;34m\u001b[0m\u001b[0;34m\u001b[0m\u001b[0m\n\u001b[1;32m      5\u001b[0m \u001b[0mairports\u001b[0m \u001b[0;34m=\u001b[0m \u001b[0mdata\u001b[0m\u001b[0;34m.\u001b[0m\u001b[0mairports\u001b[0m\u001b[0;34m.\u001b[0m\u001b[0murl\u001b[0m\u001b[0;34m\u001b[0m\u001b[0m\n",
      "\u001b[0;31mImportError\u001b[0m: No module named altair"
     ]
    }
   ],
   "source": [
    "# Since these data are each more than 5,000 rows we'll import from the URLs\n",
    "airports = data.airports.url\n",
    "flights_airport = data.flights_airport.url\n",
    "\n",
    "states = alt.topo_feature(data.us_10m.url, feature=\"states\")\n",
    "\n",
    "# Create mouseover selection\n",
    "select_city = alt.selection_single(\n",
    "    on=\"mouseover\", nearest=True, fields=[\"origin\"], empty=\"none\"\n",
    ")\n",
    "\n",
    "# Define which attributes to lookup from airports.csv\n",
    "lookup_data = alt.LookupData(\n",
    "    airports, key=\"iata\", fields=[\"state\", \"latitude\", \"longitude\"]\n",
    ")\n",
    "\n",
    "background = alt.Chart(states).mark_geoshape(\n",
    "    fill=\"lightgray\",\n",
    "    stroke=\"white\"\n",
    ").properties(\n",
    "    width=750,\n",
    "    height=500\n",
    ").project(\"albersUsa\")\n",
    "\n",
    "connections = alt.Chart(flights_airport).mark_rule(opacity=0.35).encode(\n",
    "    latitude=\"latitude:Q\",\n",
    "    longitude=\"longitude:Q\",\n",
    "    latitude2=\"lat2:Q\",\n",
    "    longitude2=\"lon2:Q\"\n",
    ").transform_lookup(\n",
    "    lookup=\"origin\",\n",
    "    from_=lookup_data\n",
    ").transform_lookup(\n",
    "    lookup=\"destination\",\n",
    "    from_=lookup_data,\n",
    "    as_=[\"state\", \"lat2\", \"lon2\"]\n",
    ").transform_filter(\n",
    "    select_city\n",
    ")\n",
    "\n",
    "points = alt.Chart(flights_airport).mark_circle().encode(\n",
    "    latitude=\"latitude:Q\",\n",
    "    longitude=\"longitude:Q\",\n",
    "    size=alt.Size(\"routes:Q\", scale=alt.Scale(range=[0, 1000]), legend=None),\n",
    "    order=alt.Order(\"routes:Q\", sort=\"descending\"),\n",
    "    tooltip=[\"origin:N\", \"routes:Q\"]\n",
    ").transform_aggregate(\n",
    "    routes=\"count()\",\n",
    "    groupby=[\"origin\"]\n",
    ").transform_lookup(\n",
    "    lookup=\"origin\",\n",
    "    from_=lookup_data\n",
    ").transform_filter(\n",
    "    (alt.datum.state != \"PR\") & (alt.datum.state != \"VI\")\n",
    ").add_selection(\n",
    "    select_city\n",
    ")\n",
    "\n",
    "(background + connections + points).configure_view(stroke=None)"
   ]
  },
  {
   "cell_type": "code",
   "execution_count": null,
   "metadata": {},
   "outputs": [],
   "source": []
  },
  {
   "cell_type": "code",
   "execution_count": null,
   "metadata": {},
   "outputs": [],
   "source": []
  }
 ],
 "metadata": {
  "kernelspec": {
   "display_name": "Python 2",
   "language": "python",
   "name": "python2"
  },
  "language_info": {
   "codemirror_mode": {
    "name": "ipython",
    "version": 2
   },
   "file_extension": ".py",
   "mimetype": "text/x-python",
   "name": "python",
   "nbconvert_exporter": "python",
   "pygments_lexer": "ipython2",
   "version": "2.7.12"
  }
 },
 "nbformat": 4,
 "nbformat_minor": 2
}
