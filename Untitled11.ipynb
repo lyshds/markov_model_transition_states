{
 "cells": [
  {
   "cell_type": "code",
   "execution_count": null,
   "metadata": {},
   "outputs": [],
   "source": []
  },
  {
   "cell_type": "code",
   "execution_count": null,
   "metadata": {},
   "outputs": [],
   "source": []
  },
  {
   "cell_type": "code",
   "execution_count": null,
   "metadata": {},
   "outputs": [],
   "source": [
    "\n",
    "import numpy as np\n",
    "import matplotlib.pyplot as plt\n",
    "  \n",
    "  \n",
    "# setting the axes projection as polar\n",
    "plt.axes(projection = 'polar')\n",
    "  \n",
    "# setting the radius\n",
    "r = 2\n",
    "  \n",
    "# creating an array containing the\n",
    "# radian values\n",
    "rads = np.arange(0, (2 * np.pi), 0.01)\n",
    "  \n",
    "# plotting the circle\n",
    "for rad in rads:\n",
    "    plt.polar(rad, r, 'g.')\n",
    "  \n",
    "# display the Polar plot\n",
    "plt.show()"
   ]
  },
  {
   "cell_type": "code",
   "execution_count": null,
   "metadata": {},
   "outputs": [],
   "source": []
  }
 ],
 "metadata": {
  "kernelspec": {
   "display_name": "Python 2",
   "language": "python",
   "name": "python2"
  },
  "language_info": {
   "codemirror_mode": {
    "name": "ipython",
    "version": 2
   },
   "file_extension": ".py",
   "mimetype": "text/x-python",
   "name": "python",
   "nbconvert_exporter": "python",
   "pygments_lexer": "ipython2",
   "version": "2.7.12"
  }
 },
 "nbformat": 4,
 "nbformat_minor": 2
}
