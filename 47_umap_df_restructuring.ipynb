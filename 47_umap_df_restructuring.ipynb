{
 "cells": [
  {
   "cell_type": "code",
   "execution_count": 25,
   "metadata": {},
   "outputs": [],
   "source": [
    "#from thllib import flylib as flb\n",
    "from matplotlib import pyplot as plt\n",
    "import numpy as np\n",
    "import scipy\n",
    "#from thllib import util\n",
    "import figurefirst as fifi\n",
    "import scipy.signal\n",
    "import local_project_functions as lpf\n",
    "from IPython.display import SVG,display\n",
    "import networkx as nx\n",
    "\n",
    "\n",
    "import flylib as flb\n",
    "#from thllib import flylib as flb\n",
    "import flylib as flb\n",
    "from matplotlib import pyplot as plt\n",
    "import numpy as np\n",
    "import scipy\n",
    "from flylib import util\n",
    "import figurefirst as fifi\n",
    "import scipy.signal\n",
    "import local_project_functions as lpf\n",
    "from IPython.display import SVG,display\n",
    "import pandas as pd\n",
    "import networkx as nx\n",
    "\n",
    "from scipy.stats import norm\n",
    "import matplotlib.mlab as mlab\n",
    "import matplotlib.pyplot as plt"
   ]
  },
  {
   "cell_type": "code",
   "execution_count": 2,
   "metadata": {},
   "outputs": [
    {
     "name": "stdout",
     "output_type": "stream",
     "text": [
      "Making dataframe for fly number 1389\n",
      "Making dataframe for fly number 1390\n",
      "Making dataframe for fly number 1391\n"
     ]
    }
   ],
   "source": [
    "flynumbers = list(range(1389,1402))\n",
    "fly_nums = range(1389,1392)\n",
    "multi_fly_df = util.construct_multi_fly_df(fly_nums)\n",
    "\n"
   ]
  },
  {
   "cell_type": "code",
   "execution_count": 17,
   "metadata": {},
   "outputs": [],
   "source": [
    "### to extract motifs from closed loop data\n",
    "#import signal"
   ]
  },
  {
   "cell_type": "code",
   "execution_count": 3,
   "metadata": {},
   "outputs": [
    {
     "data": {
      "text/html": [
       "<div>\n",
       "<style>\n",
       "    .dataframe thead tr:only-child th {\n",
       "        text-align: right;\n",
       "    }\n",
       "\n",
       "    .dataframe thead th {\n",
       "        text-align: left;\n",
       "    }\n",
       "\n",
       "    .dataframe tbody tr th {\n",
       "        vertical-align: top;\n",
       "    }\n",
       "</style>\n",
       "<table border=\"1\" class=\"dataframe\">\n",
       "  <thead>\n",
       "    <tr style=\"text-align: right;\">\n",
       "      <th></th>\n",
       "      <th>t</th>\n",
       "      <th>stimulus</th>\n",
       "      <th>amp_diff</th>\n",
       "      <th>left_amp</th>\n",
       "      <th>right_amp</th>\n",
       "      <th>fly_num</th>\n",
       "      <th>wbf</th>\n",
       "      <th>experimental_condition</th>\n",
       "      <th>pr_left</th>\n",
       "      <th>tpd_left</th>\n",
       "      <th>...</th>\n",
       "      <th>hg2_right</th>\n",
       "      <th>hg3_right</th>\n",
       "      <th>hg1_right</th>\n",
       "      <th>i1_right</th>\n",
       "      <th>bkg_right</th>\n",
       "      <th>b1_right</th>\n",
       "      <th>b2_right</th>\n",
       "      <th>b3_right</th>\n",
       "      <th>iii24_right</th>\n",
       "      <th>hg4_right</th>\n",
       "    </tr>\n",
       "  </thead>\n",
       "  <tbody>\n",
       "    <tr>\n",
       "      <th>0</th>\n",
       "      <td>0.000000</td>\n",
       "      <td>pretrial_stripe_fix</td>\n",
       "      <td>NaN</td>\n",
       "      <td>NaN</td>\n",
       "      <td>NaN</td>\n",
       "      <td>1389</td>\n",
       "      <td>0.0</td>\n",
       "      <td>condition=pretrial_closed_loop;gain=-1</td>\n",
       "      <td>1.186526</td>\n",
       "      <td>1.537965</td>\n",
       "      <td>...</td>\n",
       "      <td>7.332649</td>\n",
       "      <td>0.0</td>\n",
       "      <td>2.973134</td>\n",
       "      <td>0.549872</td>\n",
       "      <td>22.93889</td>\n",
       "      <td>0.424018</td>\n",
       "      <td>0.284354</td>\n",
       "      <td>1.161884</td>\n",
       "      <td>0.0</td>\n",
       "      <td>0.0</td>\n",
       "    </tr>\n",
       "    <tr>\n",
       "      <th>1</th>\n",
       "      <td>0.020000</td>\n",
       "      <td>pretrial_stripe_fix</td>\n",
       "      <td>NaN</td>\n",
       "      <td>NaN</td>\n",
       "      <td>NaN</td>\n",
       "      <td>1389</td>\n",
       "      <td>0.0</td>\n",
       "      <td>condition=pretrial_closed_loop;gain=-1</td>\n",
       "      <td>1.186526</td>\n",
       "      <td>1.537965</td>\n",
       "      <td>...</td>\n",
       "      <td>7.332649</td>\n",
       "      <td>0.0</td>\n",
       "      <td>2.973134</td>\n",
       "      <td>0.549872</td>\n",
       "      <td>22.93889</td>\n",
       "      <td>0.424018</td>\n",
       "      <td>0.284354</td>\n",
       "      <td>1.161884</td>\n",
       "      <td>0.0</td>\n",
       "      <td>0.0</td>\n",
       "    </tr>\n",
       "    <tr>\n",
       "      <th>2</th>\n",
       "      <td>0.040001</td>\n",
       "      <td>pretrial_stripe_fix</td>\n",
       "      <td>NaN</td>\n",
       "      <td>NaN</td>\n",
       "      <td>NaN</td>\n",
       "      <td>1389</td>\n",
       "      <td>0.0</td>\n",
       "      <td>condition=pretrial_closed_loop;gain=-1</td>\n",
       "      <td>1.186526</td>\n",
       "      <td>1.537965</td>\n",
       "      <td>...</td>\n",
       "      <td>7.332649</td>\n",
       "      <td>0.0</td>\n",
       "      <td>2.973134</td>\n",
       "      <td>0.549872</td>\n",
       "      <td>22.93889</td>\n",
       "      <td>0.424018</td>\n",
       "      <td>0.284354</td>\n",
       "      <td>1.161884</td>\n",
       "      <td>0.0</td>\n",
       "      <td>0.0</td>\n",
       "    </tr>\n",
       "    <tr>\n",
       "      <th>3</th>\n",
       "      <td>0.060001</td>\n",
       "      <td>pretrial_stripe_fix</td>\n",
       "      <td>NaN</td>\n",
       "      <td>NaN</td>\n",
       "      <td>NaN</td>\n",
       "      <td>1389</td>\n",
       "      <td>0.0</td>\n",
       "      <td>condition=pretrial_closed_loop;gain=-1</td>\n",
       "      <td>1.186526</td>\n",
       "      <td>1.537965</td>\n",
       "      <td>...</td>\n",
       "      <td>7.332649</td>\n",
       "      <td>0.0</td>\n",
       "      <td>2.973134</td>\n",
       "      <td>0.549872</td>\n",
       "      <td>22.93889</td>\n",
       "      <td>0.424018</td>\n",
       "      <td>0.284354</td>\n",
       "      <td>1.161884</td>\n",
       "      <td>0.0</td>\n",
       "      <td>0.0</td>\n",
       "    </tr>\n",
       "    <tr>\n",
       "      <th>4</th>\n",
       "      <td>0.080002</td>\n",
       "      <td>pretrial_stripe_fix</td>\n",
       "      <td>NaN</td>\n",
       "      <td>NaN</td>\n",
       "      <td>NaN</td>\n",
       "      <td>1389</td>\n",
       "      <td>0.0</td>\n",
       "      <td>condition=pretrial_closed_loop;gain=-1</td>\n",
       "      <td>1.186526</td>\n",
       "      <td>1.537965</td>\n",
       "      <td>...</td>\n",
       "      <td>7.332649</td>\n",
       "      <td>0.0</td>\n",
       "      <td>2.973134</td>\n",
       "      <td>0.549872</td>\n",
       "      <td>22.93889</td>\n",
       "      <td>0.424018</td>\n",
       "      <td>0.284354</td>\n",
       "      <td>1.161884</td>\n",
       "      <td>0.0</td>\n",
       "      <td>0.0</td>\n",
       "    </tr>\n",
       "  </tbody>\n",
       "</table>\n",
       "<p>5 rows × 40 columns</p>\n",
       "</div>"
      ],
      "text/plain": [
       "          t             stimulus  amp_diff  left_amp  right_amp  fly_num  wbf  \\\n",
       "0  0.000000  pretrial_stripe_fix       NaN       NaN        NaN     1389  0.0   \n",
       "1  0.020000  pretrial_stripe_fix       NaN       NaN        NaN     1389  0.0   \n",
       "2  0.040001  pretrial_stripe_fix       NaN       NaN        NaN     1389  0.0   \n",
       "3  0.060001  pretrial_stripe_fix       NaN       NaN        NaN     1389  0.0   \n",
       "4  0.080002  pretrial_stripe_fix       NaN       NaN        NaN     1389  0.0   \n",
       "\n",
       "                   experimental_condition   pr_left  tpd_left    ...      \\\n",
       "0  condition=pretrial_closed_loop;gain=-1  1.186526  1.537965    ...       \n",
       "1  condition=pretrial_closed_loop;gain=-1  1.186526  1.537965    ...       \n",
       "2  condition=pretrial_closed_loop;gain=-1  1.186526  1.537965    ...       \n",
       "3  condition=pretrial_closed_loop;gain=-1  1.186526  1.537965    ...       \n",
       "4  condition=pretrial_closed_loop;gain=-1  1.186526  1.537965    ...       \n",
       "\n",
       "   hg2_right  hg3_right  hg1_right  i1_right  bkg_right  b1_right  b2_right  \\\n",
       "0   7.332649        0.0   2.973134  0.549872   22.93889  0.424018  0.284354   \n",
       "1   7.332649        0.0   2.973134  0.549872   22.93889  0.424018  0.284354   \n",
       "2   7.332649        0.0   2.973134  0.549872   22.93889  0.424018  0.284354   \n",
       "3   7.332649        0.0   2.973134  0.549872   22.93889  0.424018  0.284354   \n",
       "4   7.332649        0.0   2.973134  0.549872   22.93889  0.424018  0.284354   \n",
       "\n",
       "   b3_right  iii24_right  hg4_right  \n",
       "0  1.161884          0.0        0.0  \n",
       "1  1.161884          0.0        0.0  \n",
       "2  1.161884          0.0        0.0  \n",
       "3  1.161884          0.0        0.0  \n",
       "4  1.161884          0.0        0.0  \n",
       "\n",
       "[5 rows x 40 columns]"
      ]
     },
     "execution_count": 3,
     "metadata": {},
     "output_type": "execute_result"
    }
   ],
   "source": [
    "multi_fly_df.head()"
   ]
  },
  {
   "cell_type": "code",
   "execution_count": null,
   "metadata": {},
   "outputs": [],
   "source": [
    "multi_fly_df"
   ]
  },
  {
   "cell_type": "code",
   "execution_count": null,
   "metadata": {},
   "outputs": [],
   "source": [
    "def normd (muscle_data):\n",
    "    x = muscle_data\n",
    "    normalized = (x-min(x))/(max(x)-min(x))\n",
    "    return normalized"
   ]
  },
  {
   "cell_type": "code",
   "execution_count": null,
   "metadata": {},
   "outputs": [],
   "source": [
    "print(multi_fly_df.columns.values)\n",
    "print(np.unique(multi_fly_df['stimulus']))\n",
    "\n",
    "idx = (multi_fly_df['stimulus']=='cl_blocks, g_x=-1, g_y=0, b_x=-8, b_y=0, ch=True')& \\\n",
    "        ((multi_fly_df['amp_diff']>0.1)&(multi_fly_df['amp_diff']<0.104))\n"
   ]
  },
  {
   "cell_type": "code",
   "execution_count": 4,
   "metadata": {},
   "outputs": [],
   "source": [
    "multi_fly_df['l_plus_r'] = multi_fly_df['left_amp'] + multi_fly_df['right_amp']\n",
    "all_stim_df = multi_fly_df\n"
   ]
  },
  {
   "cell_type": "code",
   "execution_count": 5,
   "metadata": {},
   "outputs": [],
   "source": [
    "def rad_to_deg (rad):\n",
    "    r_deg = np.rad2deg(((rad)/10) *2*np.pi)\n",
    "    return r_deg"
   ]
  },
  {
   "cell_type": "code",
   "execution_count": 6,
   "metadata": {},
   "outputs": [],
   "source": [
    "def key_to_key(inkey):\n",
    "    \"\"\"map the input key from the cov_mtrx_triang_layout.svg into a set of keys \n",
    "    (a tuple of tuples) that can be used to construct signals from the fly data\"\"\"\n",
    "    try:\n",
    "        k1 = {'R':'right','L':'left'}[inkey[0]]\n",
    "    except KeyError:\n",
    "        if inkey[0] == 'w':\n",
    "            return ('common','wb_freq')\n",
    "        else:\n",
    "            return\n",
    "    k2 = inkey[1:]\n",
    "    return (k1,k2)"
   ]
  },
  {
   "cell_type": "code",
   "execution_count": 21,
   "metadata": {},
   "outputs": [],
   "source": [
    "#from scipy import medfilt"
   ]
  },
  {
   "cell_type": "code",
   "execution_count": 26,
   "metadata": {},
   "outputs": [],
   "source": [
    "from scipy.signal import medfilt"
   ]
  },
  {
   "cell_type": "code",
   "execution_count": 29,
   "metadata": {},
   "outputs": [],
   "source": [
    "def median_filter_all_columns(dataframe):\n",
    "    df = pd.DataFrame()\n",
    "    columns = dataframe.columns\n",
    "    for column in columns:\n",
    "        df[column]=scipy.signal.medfilt(dataframe.column, 3)\n",
    "    return(df)"
   ]
  },
  {
   "cell_type": "code",
   "execution_count": 30,
   "metadata": {},
   "outputs": [
    {
     "ename": "AttributeError",
     "evalue": "'DataFrame' object has no attribute 'column'",
     "output_type": "error",
     "traceback": [
      "\u001b[0;31m\u001b[0m",
      "\u001b[0;31mAttributeError\u001b[0mTraceback (most recent call last)",
      "\u001b[0;32m<ipython-input-30-cc727521c950>\u001b[0m in \u001b[0;36m<module>\u001b[0;34m()\u001b[0m\n\u001b[0;32m----> 1\u001b[0;31m \u001b[0mdf\u001b[0m \u001b[0;34m=\u001b[0m \u001b[0mmedian_filter_all_columns\u001b[0m\u001b[0;34m(\u001b[0m\u001b[0mmulti_fly_df\u001b[0m\u001b[0;34m)\u001b[0m\u001b[0;34m\u001b[0m\u001b[0m\n\u001b[0m",
      "\u001b[0;32m<ipython-input-29-992db0dbe47c>\u001b[0m in \u001b[0;36mmedian_filter_all_columns\u001b[0;34m(dataframe)\u001b[0m\n\u001b[1;32m      3\u001b[0m     \u001b[0mcolumns\u001b[0m \u001b[0;34m=\u001b[0m \u001b[0mdataframe\u001b[0m\u001b[0;34m.\u001b[0m\u001b[0mcolumns\u001b[0m\u001b[0;34m\u001b[0m\u001b[0m\n\u001b[1;32m      4\u001b[0m     \u001b[0;32mfor\u001b[0m \u001b[0mcolumn\u001b[0m \u001b[0;32min\u001b[0m \u001b[0mcolumns\u001b[0m\u001b[0;34m:\u001b[0m\u001b[0;34m\u001b[0m\u001b[0m\n\u001b[0;32m----> 5\u001b[0;31m         \u001b[0mdf\u001b[0m\u001b[0;34m[\u001b[0m\u001b[0mcolumn\u001b[0m\u001b[0;34m]\u001b[0m\u001b[0;34m=\u001b[0m\u001b[0mscipy\u001b[0m\u001b[0;34m.\u001b[0m\u001b[0msignal\u001b[0m\u001b[0;34m.\u001b[0m\u001b[0mmedfilt\u001b[0m\u001b[0;34m(\u001b[0m\u001b[0mdataframe\u001b[0m\u001b[0;34m.\u001b[0m\u001b[0mcolumn\u001b[0m\u001b[0;34m,\u001b[0m \u001b[0;36m3\u001b[0m\u001b[0;34m)\u001b[0m\u001b[0;34m\u001b[0m\u001b[0m\n\u001b[0m\u001b[1;32m      6\u001b[0m     \u001b[0;32mreturn\u001b[0m\u001b[0;34m(\u001b[0m\u001b[0mdf\u001b[0m\u001b[0;34m)\u001b[0m\u001b[0;34m\u001b[0m\u001b[0m\n",
      "\u001b[0;32m/home/imager/.local/lib/python2.7/site-packages/pandas/core/generic.pyc\u001b[0m in \u001b[0;36m__getattr__\u001b[0;34m(self, name)\u001b[0m\n\u001b[1;32m   3079\u001b[0m             \u001b[0;32mif\u001b[0m \u001b[0mname\u001b[0m \u001b[0;32min\u001b[0m \u001b[0mself\u001b[0m\u001b[0;34m.\u001b[0m\u001b[0m_info_axis\u001b[0m\u001b[0;34m:\u001b[0m\u001b[0;34m\u001b[0m\u001b[0m\n\u001b[1;32m   3080\u001b[0m                 \u001b[0;32mreturn\u001b[0m \u001b[0mself\u001b[0m\u001b[0;34m[\u001b[0m\u001b[0mname\u001b[0m\u001b[0;34m]\u001b[0m\u001b[0;34m\u001b[0m\u001b[0m\n\u001b[0;32m-> 3081\u001b[0;31m             \u001b[0;32mreturn\u001b[0m \u001b[0mobject\u001b[0m\u001b[0;34m.\u001b[0m\u001b[0m__getattribute__\u001b[0m\u001b[0;34m(\u001b[0m\u001b[0mself\u001b[0m\u001b[0;34m,\u001b[0m \u001b[0mname\u001b[0m\u001b[0;34m)\u001b[0m\u001b[0;34m\u001b[0m\u001b[0m\n\u001b[0m\u001b[1;32m   3082\u001b[0m \u001b[0;34m\u001b[0m\u001b[0m\n\u001b[1;32m   3083\u001b[0m     \u001b[0;32mdef\u001b[0m \u001b[0m__setattr__\u001b[0m\u001b[0;34m(\u001b[0m\u001b[0mself\u001b[0m\u001b[0;34m,\u001b[0m \u001b[0mname\u001b[0m\u001b[0;34m,\u001b[0m \u001b[0mvalue\u001b[0m\u001b[0;34m)\u001b[0m\u001b[0;34m:\u001b[0m\u001b[0;34m\u001b[0m\u001b[0m\n",
      "\u001b[0;31mAttributeError\u001b[0m: 'DataFrame' object has no attribute 'column'"
     ]
    }
   ],
   "source": [
    "df = median_filter_all_columns(multi_fly_df)"
   ]
  },
  {
   "cell_type": "code",
   "execution_count": 8,
   "metadata": {},
   "outputs": [],
   "source": [
    "df = median_filter_all_columns(multi_fly_df)"
   ]
  },
  {
   "cell_type": "code",
   "execution_count": null,
   "metadata": {},
   "outputs": [],
   "source": [
    "## normalize med filtered "
   ]
  },
  {
   "cell_type": "code",
   "execution_count": null,
   "metadata": {},
   "outputs": [],
   "source": [
    "#normalized = normed_multi_fly_df.loc[normed_multi_fly_df['stimulus']== 'yaw_left, g_x=12, g_y=0, b_x=0, b_y=0, ch=0']\n"
   ]
  },
  {
   "cell_type": "code",
   "execution_count": null,
   "metadata": {},
   "outputs": [],
   "source": [
    "\n",
    "def normd(fly_num, muscle):\n",
    "        df=multi_fly_df.loc[multi_fly_df['fly_num']==fly_num]\n",
    "        a = len(df[muscle])\n",
    "        m = df[muscle]\n",
    "        #a_5p = a*5/100.\n",
    "        #a_5pr = round(a_5p)\n",
    "        #minimums_5p = arr.argsort()[:a_5pr]\n",
    "        #maximums_5p = arr.argsort()[:-a_5pr]\n",
    "        #minimums_5p = np.argpartition(df, a_5pr)\n",
    "        print(\"1.5th percentile:   \", np.percentile(m, 1.5))\n",
    "        muscle_min = np.percentile(m, 1.5)\n",
    "        print(\"98.5th percentile:   \", np.percentile(m, 98.5))\n",
    "        muscle_max = np.percentile(m, 98.5)\n",
    "\n",
    "        normalized = (m-muscle_min)/(muscle_max-muscle_min)\n",
    "        return normalized"
   ]
  },
  {
   "cell_type": "code",
   "execution_count": null,
   "metadata": {},
   "outputs": [],
   "source": [
    "normed_multi_fly_df = pd.DataFrame()\n",
    "\n",
    "for flynum in fly_nums:\n",
    "    df=multi_fly_df.loc[multi_fly_df['fly_num']==flynum]\n",
    "    for key in sorted_keys: \n",
    "        a = normd(df[key])\n",
    "        df[key] = a\n",
    "    normed_multi_fly_df = normed_multi_fly_df.append(df)"
   ]
  }
 ],
 "metadata": {
  "kernelspec": {
   "display_name": "Python 2",
   "language": "python",
   "name": "python2"
  },
  "language_info": {
   "codemirror_mode": {
    "name": "ipython",
    "version": 2
   },
   "file_extension": ".py",
   "mimetype": "text/x-python",
   "name": "python",
   "nbconvert_exporter": "python",
   "pygments_lexer": "ipython2",
   "version": "2.7.12"
  }
 },
 "nbformat": 4,
 "nbformat_minor": 2
}
