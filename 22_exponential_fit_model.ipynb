{
 "cells": [
  {
   "cell_type": "code",
   "execution_count": 2,
   "metadata": {},
   "outputs": [],
   "source": [
    "#!/usr/bin/env python\n",
    "\n",
    "#import pyfits, os, re, glob, sys\n",
    "import  os, re, glob, sys\n",
    "from scipy.optimize import leastsq\n",
    "from numpy import *\n",
    "from pylab import *\n",
    "from scipy import *\n",
    "from scipy import optimize\n",
    "import numpy as N\n",
    "import pylab as P\n",
    "\n",
    "import numpy as np\n",
    "from scipy.optimize import curve_fit"
   ]
  },
  {
   "cell_type": "code",
   "execution_count": 2,
   "metadata": {},
   "outputs": [
    {
     "ename": "NameError",
     "evalue": "name 'time' is not defined",
     "output_type": "error",
     "traceback": [
      "\u001b[0;31m\u001b[0m",
      "\u001b[0;31mNameError\u001b[0mTraceback (most recent call last)",
      "\u001b[0;32m<ipython-input-2-4316c0c586e5>\u001b[0m in \u001b[0;36m<module>\u001b[0;34m()\u001b[0m\n\u001b[1;32m     13\u001b[0m \u001b[0;32mimport\u001b[0m \u001b[0mnumpy\u001b[0m \u001b[0;32mas\u001b[0m \u001b[0mnp\u001b[0m\u001b[0;34m\u001b[0m\u001b[0m\n\u001b[1;32m     14\u001b[0m \u001b[0;32mfrom\u001b[0m \u001b[0mscipy\u001b[0m\u001b[0;34m.\u001b[0m\u001b[0moptimize\u001b[0m \u001b[0;32mimport\u001b[0m \u001b[0mcurve_fit\u001b[0m\u001b[0;34m\u001b[0m\u001b[0m\n\u001b[0;32m---> 15\u001b[0;31m \u001b[0mx\u001b[0m \u001b[0;34m=\u001b[0m \u001b[0mtime\u001b[0m\u001b[0;34m\u001b[0m\u001b[0m\n\u001b[0m\u001b[1;32m     16\u001b[0m \u001b[0mden\u001b[0m \u001b[0;34m=\u001b[0m \u001b[0mx\u001b[0m\u001b[0;34m.\u001b[0m\u001b[0mmax\u001b[0m\u001b[0;34m(\u001b[0m\u001b[0;34m)\u001b[0m \u001b[0;34m-\u001b[0m \u001b[0mx\u001b[0m\u001b[0;34m.\u001b[0m\u001b[0mmin\u001b[0m\u001b[0;34m(\u001b[0m\u001b[0;34m)\u001b[0m\u001b[0;34m\u001b[0m\u001b[0m\n\u001b[1;32m     17\u001b[0m \u001b[0mx\u001b[0m \u001b[0;34m-=\u001b[0m \u001b[0mx\u001b[0m\u001b[0;34m.\u001b[0m\u001b[0mmin\u001b[0m\u001b[0;34m(\u001b[0m\u001b[0;34m)\u001b[0m\u001b[0;34m\u001b[0m\u001b[0m\n",
      "\u001b[0;31mNameError\u001b[0m: name 'time' is not defined"
     ]
    }
   ],
   "source": [
    "x = time\n",
    "den = x.max() - x.min()\n",
    "x -= x.min()\n",
    "y_points = rate\n",
    "def func(x, a1, a2, a3):\n",
    "    return  a1*sin(1*pi*x/den)+\\\n",
    "            a2*sin(2*pi*x/den)+\\\n",
    "            a3*sin(3*pi*x/den)\n",
    "popt, pcov = curve_fit(func, x, y_points)\n",
    "y = func(x, *popt)\n",
    "plot(time,rate)\n",
    "plot(x,y, color='r', linewidth=2.)\n",
    "show()"
   ]
  },
  {
   "cell_type": "code",
   "execution_count": 1,
   "metadata": {},
   "outputs": [
    {
     "ename": "ImportError",
     "evalue": "No module named pyfits",
     "output_type": "error",
     "traceback": [
      "\u001b[0;31m\u001b[0m",
      "\u001b[0;31mImportError\u001b[0mTraceback (most recent call last)",
      "\u001b[0;32m<ipython-input-1-76cad7935453>\u001b[0m in \u001b[0;36m<module>\u001b[0;34m()\u001b[0m\n\u001b[1;32m      1\u001b[0m \u001b[0;31m#!/usr/bin/env python\u001b[0m\u001b[0;34m\u001b[0m\u001b[0;34m\u001b[0m\u001b[0m\n\u001b[1;32m      2\u001b[0m \u001b[0;34m\u001b[0m\u001b[0m\n\u001b[0;32m----> 3\u001b[0;31m \u001b[0;32mimport\u001b[0m \u001b[0mpyfits\u001b[0m\u001b[0;34m,\u001b[0m \u001b[0mos\u001b[0m\u001b[0;34m,\u001b[0m \u001b[0mre\u001b[0m\u001b[0;34m,\u001b[0m \u001b[0mglob\u001b[0m\u001b[0;34m,\u001b[0m \u001b[0msys\u001b[0m\u001b[0;34m\u001b[0m\u001b[0m\n\u001b[0m\u001b[1;32m      4\u001b[0m \u001b[0;32mfrom\u001b[0m \u001b[0mscipy\u001b[0m\u001b[0;34m.\u001b[0m\u001b[0moptimize\u001b[0m \u001b[0;32mimport\u001b[0m \u001b[0mleastsq\u001b[0m\u001b[0;34m\u001b[0m\u001b[0m\n\u001b[1;32m      5\u001b[0m \u001b[0;32mfrom\u001b[0m \u001b[0mnumpy\u001b[0m \u001b[0;32mimport\u001b[0m \u001b[0;34m*\u001b[0m\u001b[0;34m\u001b[0m\u001b[0m\n",
      "\u001b[0;31mImportError\u001b[0m: No module named pyfits"
     ]
    }
   ],
   "source": [
    "data=pyfits.open('http://heasarc.gsfc.nasa.gov/docs/swift/results/transients/weak/GX304-1.orbit.lc.fits')\n",
    "time  = data[1].data.field(0)/86400. + data[1].header['MJDREFF'] + data[1].header['MJDREFI']\n",
    "rate  = data[1].data.field(1)\n",
    "error = data[1].data.field(2)\n",
    "data.close()\n",
    "\n",
    "cond = ((time > 56200) & (time < 56220))\n",
    "time=time[cond]\n",
    "rate=rate[cond]\n",
    "error=error[cond]\n",
    "\n",
    "def expGauss(x, pos, wid, tConst, expMod = 0.5, amp = 1):\n",
    "    expMod *= 1.0\n",
    "    gNorm = amp * N.exp(-0.5*((x-pos)/(wid))**2)\n",
    "    g = expBroaden(gNorm, tConst, expMod)\n",
    "    return g, gNorm\n",
    "\n",
    "def expBroaden(y, t, expMod):\n",
    "    fy = F.fft(y)\n",
    "    a = N.exp(-1*expMod*time/t)\n",
    "    fa = F.fft(a)\n",
    "    fy1 = fy*fa\n",
    "    yb = (F.ifft(fy1).real)/N.sum(a)\n",
    "    return yb\n",
    "\n",
    "if __name__ == '__main__':\n",
    "\n",
    "# Fit the first set\n",
    "#p[0] -- amplitude, p[1] -- position, p[2] -- width\n",
    "    fitfuncG = lambda p, x: p[0]*N.exp(-0.5*(x-p[1])**2/p[2]**2) # Target function\n",
    "    errfuncG = lambda p, x, y: fitfuncG(p, x) - y # Distance to the target function\n",
    "    p0 = [0.20, 56210, 2.0] # Initial guess for the parameters\n",
    "    p1, success = optimize.leastsq(errfuncG, p0[:], args=(time, rate))\n",
    "    p1G = fitfuncG(p1, time)\n",
    "   # P.plot(rate,  'ro', alpha = 0.4, label = \"Gaussian\")\n",
    "   # P.plot(p1G, label = 'G-Fit')\n",
    "\n",
    "def expGauss(x, pos, wid, tConst, expMod = 0.5, amp = 1):\n",
    "  #p[0] -- amplitude, p[1] -- position, p[2] -- width, p[3]--tConst, p[4] -- expMod  \n",
    "    fitfuncExpG = lambda p, x: expGauss(x, p[1], p[2], p[3], p[4], p[0])[0]\n",
    "    errfuncExpG = lambda p, x, y: fitfuncExpG(p, x) - y # Distance to the target function  \n",
    "    p0a = [0.20, 56210, 2.0] # Initial guess for the parameters\n",
    "    p1a, success = optimize.leastsq(errfuncExpG, p0a[:], args=(time, rate))\n",
    "    p1aG = fitfuncExpG(p1a, time)\n",
    "    print type(rate), type(time), len(rate), len(time)  \n",
    "    P.plot(rate, 'go', alpha = 0.4, label = \"ExpGaussian\")  \n",
    "    P.plot(p1aG, label = 'ExpG-Fit')\n",
    "\n",
    "    P.legend()  \n",
    "    P.show()"
   ]
  },
  {
   "cell_type": "code",
   "execution_count": null,
   "metadata": {},
   "outputs": [],
   "source": []
  },
  {
   "cell_type": "code",
   "execution_count": null,
   "metadata": {},
   "outputs": [],
   "source": []
  },
  {
   "cell_type": "code",
   "execution_count": null,
   "metadata": {},
   "outputs": [],
   "source": []
  }
 ],
 "metadata": {
  "kernelspec": {
   "display_name": "Python 2",
   "language": "python",
   "name": "python2"
  },
  "language_info": {
   "codemirror_mode": {
    "name": "ipython",
    "version": 2
   },
   "file_extension": ".py",
   "mimetype": "text/x-python",
   "name": "python",
   "nbconvert_exporter": "python",
   "pygments_lexer": "ipython2",
   "version": "2.7.12"
  }
 },
 "nbformat": 4,
 "nbformat_minor": 2
}
